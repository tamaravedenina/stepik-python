{
 "cells": [
  {
   "cell_type": "code",
   "execution_count": 7,
   "metadata": {},
   "outputs": [
    {
     "name": "stdout",
     "output_type": "stream",
     "text": [
      "2\n",
      "2 программиста\n"
     ]
    }
   ],
   "source": [
    "n = int(input())\n",
    "\n",
    "if n % 10 == 1 and n % 100 != 11:\n",
    "    print(str(n) + ' программист')\n",
    "elif (n % 10 == 2 or n % 10 == 3 or n % 10 == 4) and not (n % 100 == 12 or n % 100 == 13 or n % 100 == 14):\n",
    "    print(str(n) + ' программиста')\n",
    "else:\n",
    "    print(str(n) + ' программистов')\n"
   ]
  },
  {
   "cell_type": "code",
   "execution_count": 12,
   "metadata": {},
   "outputs": [
    {
     "name": "stdout",
     "output_type": "stream",
     "text": [
      "123456\n",
      "Обычный\n"
     ]
    }
   ],
   "source": [
    "num = int(input())\n",
    "n1 = num % 10\n",
    "n2 = (num % 100) // 10\n",
    "n3 = (num % 1000) // 100\n",
    "n4 = (num // 1000) % 10\n",
    "n5 = (num // 10000) % 10\n",
    "n6 = num // 100000\n",
    "s1 = n1 + n2 + n3\n",
    "s2 = n4 + n5 + n6\n",
    "\n",
    "if s1 == s2:\n",
    "    print('Счастливый')\n",
    "else:\n",
    "    print('Обычный')\n"
   ]
  },
  {
   "cell_type": "code",
   "execution_count": null,
   "metadata": {},
   "outputs": [],
   "source": []
  }
 ],
 "metadata": {
  "kernelspec": {
   "display_name": "Python 3",
   "language": "python",
   "name": "python3"
  },
  "language_info": {
   "codemirror_mode": {
    "name": "ipython",
    "version": 3
   },
   "file_extension": ".py",
   "mimetype": "text/x-python",
   "name": "python",
   "nbconvert_exporter": "python",
   "pygments_lexer": "ipython3",
   "version": "3.7.4"
  }
 },
 "nbformat": 4,
 "nbformat_minor": 2
}
