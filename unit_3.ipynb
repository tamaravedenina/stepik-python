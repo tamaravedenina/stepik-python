{
 "cells": [
  {
   "cell_type": "markdown",
   "metadata": {},
   "source": [
    "## Функции, словари, интерпретатор, файлы, модули."
   ]
  },
  {
   "cell_type": "markdown",
   "metadata": {},
   "source": [
    "### Функции"
   ]
  },
  {
   "cell_type": "markdown",
   "metadata": {},
   "source": [
    "#### Объявление функции"
   ]
  },
  {
   "cell_type": "code",
   "execution_count": 1,
   "metadata": {},
   "outputs": [],
   "source": [
    "def min2(a,b):\n",
    "    if a <= b:\n",
    "        return a\n",
    "    else:\n",
    "        return b"
   ]
  },
  {
   "cell_type": "code",
   "execution_count": 2,
   "metadata": {},
   "outputs": [
    {
     "data": {
      "text/plain": [
       "3"
      ]
     },
     "execution_count": 2,
     "metadata": {},
     "output_type": "execute_result"
    }
   ],
   "source": [
    "min2(12, 3)"
   ]
  },
  {
   "cell_type": "code",
   "execution_count": 3,
   "metadata": {},
   "outputs": [],
   "source": [
    "def f(n):\n",
    "    return n * 10 + 5"
   ]
  },
  {
   "cell_type": "code",
   "execution_count": 4,
   "metadata": {},
   "outputs": [
    {
     "data": {
      "text/plain": [
       "10555"
      ]
     },
     "execution_count": 4,
     "metadata": {},
     "output_type": "execute_result"
    }
   ],
   "source": [
    "f(f(f(10)))"
   ]
  },
  {
   "cell_type": "markdown",
   "metadata": {},
   "source": [
    "произвольное число аргументов"
   ]
  },
  {
   "cell_type": "code",
   "execution_count": 5,
   "metadata": {},
   "outputs": [],
   "source": [
    "def myMin(*a):\n",
    "    m = a[0]\n",
    "    for x in a:\n",
    "        if x < m:\n",
    "            m = x\n",
    "    return m"
   ]
  },
  {
   "cell_type": "code",
   "execution_count": 6,
   "metadata": {},
   "outputs": [
    {
     "data": {
      "text/plain": [
       "-45"
      ]
     },
     "execution_count": 6,
     "metadata": {},
     "output_type": "execute_result"
    }
   ],
   "source": [
    "myMin(12, 3, -1, 32, 43, 0, -45)"
   ]
  },
  {
   "cell_type": "code",
   "execution_count": null,
   "metadata": {},
   "outputs": [],
   "source": [
    "значение аргументов по умолчанию"
   ]
  },
  {
   "cell_type": "code",
   "execution_count": 10,
   "metadata": {},
   "outputs": [],
   "source": [
    "def my_range(start, stop, step=1):\n",
    "    res = []\n",
    "    if step > 0:\n",
    "        x = start\n",
    "        while x < stop:\n",
    "            res += [x]\n",
    "            x += step\n",
    "    elif step < 0:\n",
    "        x = start\n",
    "        while x > stop:\n",
    "            res += [x]\n",
    "            x += step\n",
    "    return res"
   ]
  },
  {
   "cell_type": "code",
   "execution_count": 8,
   "metadata": {},
   "outputs": [
    {
     "name": "stdout",
     "output_type": "stream",
     "text": [
      "[2, 3, 4]\n"
     ]
    }
   ],
   "source": [
    "print(my_range(2,5))"
   ]
  },
  {
   "cell_type": "code",
   "execution_count": 11,
   "metadata": {},
   "outputs": [
    {
     "name": "stdout",
     "output_type": "stream",
     "text": [
      "[5, 4, 3, 2]\n"
     ]
    }
   ],
   "source": [
    "print(my_range(5,1, -1))"
   ]
  },
  {
   "cell_type": "code",
   "execution_count": 12,
   "metadata": {},
   "outputs": [
    {
     "name": "stdout",
     "output_type": "stream",
     "text": [
      "[2, 5, 8, 11, 14]\n"
     ]
    }
   ],
   "source": [
    "print(my_range(2,15, 3))"
   ]
  },
  {
   "cell_type": "code",
   "execution_count": 13,
   "metadata": {},
   "outputs": [
    {
     "name": "stdout",
     "output_type": "stream",
     "text": [
      "[15, 13, 11, 9, 7, 5]\n"
     ]
    }
   ],
   "source": [
    "print(my_range(15, 3, -2))"
   ]
  },
  {
   "cell_type": "code",
   "execution_count": 15,
   "metadata": {},
   "outputs": [],
   "source": [
    "передача аргументов по имени"
   ]
  },
  {
   "cell_type": "code",
   "execution_count": 18,
   "metadata": {},
   "outputs": [
    {
     "name": "stdout",
     "output_type": "stream",
     "text": [
      "test test "
     ]
    }
   ],
   "source": [
    "print('test', end=' test ')"
   ]
  },
  {
   "cell_type": "code",
   "execution_count": 20,
   "metadata": {},
   "outputs": [
    {
     "name": "stdout",
     "output_type": "stream",
     "text": [
      "[3, 5, 7, 9, 11, 13]\n"
     ]
    }
   ],
   "source": [
    "print(my_range(stop=15, start=3, step=2))"
   ]
  },
  {
   "cell_type": "code",
   "execution_count": null,
   "metadata": {},
   "outputs": [],
   "source": [
    "изменение ссылочных типов"
   ]
  },
  {
   "cell_type": "code",
   "execution_count": 21,
   "metadata": {},
   "outputs": [
    {
     "name": "stdout",
     "output_type": "stream",
     "text": [
      "[0]\n"
     ]
    }
   ],
   "source": [
    "def append_zero(xs):\n",
    "    xs.append(0)\n",
    "\n",
    "a = []\n",
    "append_zero(a)\n",
    "print(a)"
   ]
  },
  {
   "cell_type": "code",
   "execution_count": 22,
   "metadata": {},
   "outputs": [
    {
     "name": "stdout",
     "output_type": "stream",
     "text": [
      "[0]\n"
     ]
    }
   ],
   "source": [
    "def append_zero(xs):\n",
    "    xs.append(0)\n",
    "    xs = [100]\n",
    "    \n",
    "a = []\n",
    "append_zero(a)\n",
    "print(a)"
   ]
  },
  {
   "cell_type": "code",
   "execution_count": 23,
   "metadata": {},
   "outputs": [
    {
     "name": "stdout",
     "output_type": "stream",
     "text": [
      "10\n"
     ]
    }
   ],
   "source": [
    "a = 10\n",
    "\n",
    "def print_value():\n",
    "    print(a)\n",
    "\n",
    "print_value()"
   ]
  },
  {
   "cell_type": "code",
   "execution_count": 24,
   "metadata": {},
   "outputs": [
    {
     "ename": "UnboundLocalError",
     "evalue": "local variable 'a' referenced before assignment",
     "output_type": "error",
     "traceback": [
      "\u001b[0;31m---------------------------------------------------------------------------\u001b[0m",
      "\u001b[0;31mUnboundLocalError\u001b[0m                         Traceback (most recent call last)",
      "\u001b[0;32m<ipython-input-24-869e0675f66b>\u001b[0m in \u001b[0;36m<module>\u001b[0;34m\u001b[0m\n\u001b[1;32m      6\u001b[0m     \u001b[0mprint\u001b[0m\u001b[0;34m(\u001b[0m\u001b[0ma\u001b[0m\u001b[0;34m)\u001b[0m\u001b[0;34m\u001b[0m\u001b[0;34m\u001b[0m\u001b[0m\n\u001b[1;32m      7\u001b[0m \u001b[0;34m\u001b[0m\u001b[0m\n\u001b[0;32m----> 8\u001b[0;31m \u001b[0mprint_value\u001b[0m\u001b[0;34m(\u001b[0m\u001b[0;34m)\u001b[0m\u001b[0;34m\u001b[0m\u001b[0;34m\u001b[0m\u001b[0m\n\u001b[0m",
      "\u001b[0;32m<ipython-input-24-869e0675f66b>\u001b[0m in \u001b[0;36mprint_value\u001b[0;34m()\u001b[0m\n\u001b[1;32m      2\u001b[0m \u001b[0;34m\u001b[0m\u001b[0m\n\u001b[1;32m      3\u001b[0m \u001b[0;32mdef\u001b[0m \u001b[0mprint_value\u001b[0m\u001b[0;34m(\u001b[0m\u001b[0;34m)\u001b[0m\u001b[0;34m:\u001b[0m\u001b[0;34m\u001b[0m\u001b[0;34m\u001b[0m\u001b[0m\n\u001b[0;32m----> 4\u001b[0;31m     \u001b[0mprint\u001b[0m\u001b[0;34m(\u001b[0m\u001b[0ma\u001b[0m\u001b[0;34m)\u001b[0m\u001b[0;34m\u001b[0m\u001b[0;34m\u001b[0m\u001b[0m\n\u001b[0m\u001b[1;32m      5\u001b[0m     \u001b[0ma\u001b[0m \u001b[0;34m=\u001b[0m \u001b[0;36m11\u001b[0m\u001b[0;34m\u001b[0m\u001b[0;34m\u001b[0m\u001b[0m\n\u001b[1;32m      6\u001b[0m     \u001b[0mprint\u001b[0m\u001b[0;34m(\u001b[0m\u001b[0ma\u001b[0m\u001b[0;34m)\u001b[0m\u001b[0;34m\u001b[0m\u001b[0;34m\u001b[0m\u001b[0m\n",
      "\u001b[0;31mUnboundLocalError\u001b[0m: local variable 'a' referenced before assignment"
     ]
    }
   ],
   "source": [
    "a = 10 \n",
    "# так нельзя. переменная а стала локальной! \n",
    "def print_value():\n",
    "    print(a)\n",
    "    a = 11\n",
    "    print(a)\n",
    "\n",
    "print_value()"
   ]
  },
  {
   "cell_type": "code",
   "execution_count": 25,
   "metadata": {},
   "outputs": [],
   "source": [
    "def f(x):\n",
    "    if x <= -2:\n",
    "        return 1 - (x+2)**2\n",
    "    elif x <= 2:\n",
    "        return -x/2\n",
    "    else:\n",
    "        return (x-2)**2 + 1\n"
   ]
  },
  {
   "cell_type": "code",
   "execution_count": 26,
   "metadata": {},
   "outputs": [
    {
     "data": {
      "text/plain": [
       "0.5"
      ]
     },
     "execution_count": 26,
     "metadata": {},
     "output_type": "execute_result"
    }
   ],
   "source": [
    "f(-1)"
   ]
  },
  {
   "cell_type": "code",
   "execution_count": 27,
   "metadata": {},
   "outputs": [
    {
     "data": {
      "text/plain": [
       "1"
      ]
     },
     "execution_count": 27,
     "metadata": {},
     "output_type": "execute_result"
    }
   ],
   "source": [
    "f(-2)"
   ]
  },
  {
   "cell_type": "code",
   "execution_count": 28,
   "metadata": {},
   "outputs": [
    {
     "data": {
      "text/plain": [
       "-1.0"
      ]
     },
     "execution_count": 28,
     "metadata": {},
     "output_type": "execute_result"
    }
   ],
   "source": [
    "f(2)"
   ]
  },
  {
   "cell_type": "code",
   "execution_count": 29,
   "metadata": {},
   "outputs": [
    {
     "data": {
      "text/plain": [
       "2"
      ]
     },
     "execution_count": 29,
     "metadata": {},
     "output_type": "execute_result"
    }
   ],
   "source": [
    "f(3)"
   ]
  },
  {
   "cell_type": "code",
   "execution_count": 63,
   "metadata": {},
   "outputs": [],
   "source": [
    "def modify_list(l):\n",
    "    b = []\n",
    "    for i in range(len(l) - 1, -1, -1):\n",
    "        if l[i] % 2 == 0:\n",
    "            l[i] = l[i]//2\n",
    "        else:\n",
    "            b.append(l[i])\n",
    "    for i in b:\n",
    "        l.remove(i)"
   ]
  },
  {
   "cell_type": "code",
   "execution_count": 61,
   "metadata": {},
   "outputs": [
    {
     "name": "stdout",
     "output_type": "stream",
     "text": [
      "8\n",
      "10\n",
      "[3, 5]\n",
      "[5, 4]\n"
     ]
    }
   ],
   "source": [
    "lst = [10, 5, 8, 3]\n",
    "modify_list(lst)\n",
    "print(lst)"
   ]
  },
  {
   "cell_type": "code",
   "execution_count": 64,
   "metadata": {},
   "outputs": [
    {
     "name": "stdout",
     "output_type": "stream",
     "text": [
      "None\n",
      "[1, 2, 3]\n",
      "[1]\n",
      "[5, 4]\n"
     ]
    }
   ],
   "source": [
    "lst = [1, 2, 3, 4, 5, 6]\n",
    "print(modify_list(lst))  # None\n",
    "print(lst)               # [1, 2, 3]\n",
    "modify_list(lst)\n",
    "print(lst)               # [1]\n",
    "\n",
    "lst = [10, 5, 8, 3]\n",
    "modify_list(lst)\n",
    "print(lst)  "
   ]
  },
  {
   "cell_type": "code",
   "execution_count": null,
   "metadata": {},
   "outputs": [],
   "source": [
    "### Множества - неупорядоченный список уникальных элементов"
   ]
  },
  {
   "cell_type": "code",
   "execution_count": 1,
   "metadata": {},
   "outputs": [],
   "source": [
    "s = set()"
   ]
  },
  {
   "cell_type": "code",
   "execution_count": 2,
   "metadata": {},
   "outputs": [],
   "source": [
    "s = {'apple', 'orange', 'banana'}"
   ]
  },
  {
   "cell_type": "code",
   "execution_count": 3,
   "metadata": {},
   "outputs": [
    {
     "data": {
      "text/plain": [
       "{'apple', 'banana', 'orange'}"
      ]
     },
     "execution_count": 3,
     "metadata": {},
     "output_type": "execute_result"
    }
   ],
   "source": [
    "s"
   ]
  },
  {
   "cell_type": "code",
   "execution_count": 4,
   "metadata": {},
   "outputs": [
    {
     "name": "stdout",
     "output_type": "stream",
     "text": [
      "{'banana', 'apple', 'orange'}\n"
     ]
    }
   ],
   "source": [
    "print(s)"
   ]
  },
  {
   "cell_type": "code",
   "execution_count": 5,
   "metadata": {},
   "outputs": [
    {
     "data": {
      "text/plain": [
       "True"
      ]
     },
     "execution_count": 5,
     "metadata": {},
     "output_type": "execute_result"
    }
   ],
   "source": [
    "'orange' in s # проверка наличия элемента в множестве"
   ]
  },
  {
   "cell_type": "code",
   "execution_count": 6,
   "metadata": {},
   "outputs": [],
   "source": [
    "#### операции над множествами"
   ]
  },
  {
   "cell_type": "code",
   "execution_count": 7,
   "metadata": {},
   "outputs": [],
   "source": [
    "s.add('new')"
   ]
  },
  {
   "cell_type": "code",
   "execution_count": 8,
   "metadata": {},
   "outputs": [],
   "source": [
    "s.remove('orange') # если такого элемента нет, то будет ошибка"
   ]
  },
  {
   "cell_type": "code",
   "execution_count": 9,
   "metadata": {},
   "outputs": [],
   "source": [
    "s.discard('orange') # если такого элемента нет, то ошибки не будет"
   ]
  },
  {
   "cell_type": "code",
   "execution_count": 10,
   "metadata": {},
   "outputs": [
    {
     "data": {
      "text/plain": [
       "{'apple', 'banana', 'new'}"
      ]
     },
     "execution_count": 10,
     "metadata": {},
     "output_type": "execute_result"
    }
   ],
   "source": [
    "s"
   ]
  },
  {
   "cell_type": "code",
   "execution_count": 11,
   "metadata": {},
   "outputs": [],
   "source": [
    "s.clear() # удаляет все элементы"
   ]
  },
  {
   "cell_type": "code",
   "execution_count": 12,
   "metadata": {},
   "outputs": [
    {
     "data": {
      "text/plain": [
       "set()"
      ]
     },
     "execution_count": 12,
     "metadata": {},
     "output_type": "execute_result"
    }
   ],
   "source": [
    "s"
   ]
  },
  {
   "cell_type": "code",
   "execution_count": 13,
   "metadata": {},
   "outputs": [
    {
     "data": {
      "text/plain": [
       "0"
      ]
     },
     "execution_count": 13,
     "metadata": {},
     "output_type": "execute_result"
    }
   ],
   "source": [
    "len(s)"
   ]
  },
  {
   "cell_type": "code",
   "execution_count": 14,
   "metadata": {},
   "outputs": [],
   "source": [
    "s = {'apple', 'banana', 'new'}"
   ]
  },
  {
   "cell_type": "code",
   "execution_count": 15,
   "metadata": {},
   "outputs": [
    {
     "data": {
      "text/plain": [
       "3"
      ]
     },
     "execution_count": 15,
     "metadata": {},
     "output_type": "execute_result"
    }
   ],
   "source": [
    "len(s)"
   ]
  },
  {
   "cell_type": "code",
   "execution_count": 16,
   "metadata": {},
   "outputs": [],
   "source": [
    "### Словари"
   ]
  },
  {
   "cell_type": "code",
   "execution_count": 17,
   "metadata": {},
   "outputs": [],
   "source": [
    "s = dict()"
   ]
  },
  {
   "cell_type": "code",
   "execution_count": 18,
   "metadata": {},
   "outputs": [
    {
     "data": {
      "text/plain": [
       "{}"
      ]
     },
     "execution_count": 18,
     "metadata": {},
     "output_type": "execute_result"
    }
   ],
   "source": [
    "s"
   ]
  },
  {
   "cell_type": "code",
   "execution_count": 21,
   "metadata": {},
   "outputs": [],
   "source": [
    "s = {'one':1, 'two':2, 3:'three'}"
   ]
  },
  {
   "cell_type": "code",
   "execution_count": 22,
   "metadata": {},
   "outputs": [
    {
     "data": {
      "text/plain": [
       "{'one': 1, 'two': 2, 3: 'three'}"
      ]
     },
     "execution_count": 22,
     "metadata": {},
     "output_type": "execute_result"
    }
   ],
   "source": [
    "s"
   ]
  },
  {
   "cell_type": "code",
   "execution_count": 24,
   "metadata": {},
   "outputs": [
    {
     "data": {
      "text/plain": [
       "1"
      ]
     },
     "execution_count": 24,
     "metadata": {},
     "output_type": "execute_result"
    }
   ],
   "source": [
    "s['one']"
   ]
  },
  {
   "cell_type": "code",
   "execution_count": 25,
   "metadata": {},
   "outputs": [
    {
     "ename": "KeyError",
     "evalue": "'three'",
     "output_type": "error",
     "traceback": [
      "\u001b[0;31m---------------------------------------------------------------------------\u001b[0m",
      "\u001b[0;31mKeyError\u001b[0m                                  Traceback (most recent call last)",
      "\u001b[0;32m<ipython-input-25-701a4a12df21>\u001b[0m in \u001b[0;36m<module>\u001b[0;34m\u001b[0m\n\u001b[0;32m----> 1\u001b[0;31m \u001b[0ms\u001b[0m\u001b[0;34m[\u001b[0m\u001b[0;34m'three'\u001b[0m\u001b[0;34m]\u001b[0m \u001b[0;31m# если такого ключа нет, будет ошибка\u001b[0m\u001b[0;34m\u001b[0m\u001b[0;34m\u001b[0m\u001b[0m\n\u001b[0m",
      "\u001b[0;31mKeyError\u001b[0m: 'three'"
     ]
    }
   ],
   "source": [
    "s['three'] # если такого ключа нет, будет ошибка"
   ]
  },
  {
   "cell_type": "code",
   "execution_count": 27,
   "metadata": {},
   "outputs": [
    {
     "data": {
      "text/plain": [
       "'three'"
      ]
     },
     "execution_count": 27,
     "metadata": {},
     "output_type": "execute_result"
    }
   ],
   "source": [
    "s[3]"
   ]
  },
  {
   "cell_type": "code",
   "execution_count": 28,
   "metadata": {},
   "outputs": [
    {
     "data": {
      "text/plain": [
       "False"
      ]
     },
     "execution_count": 28,
     "metadata": {},
     "output_type": "execute_result"
    }
   ],
   "source": [
    "'three' in s"
   ]
  },
  {
   "cell_type": "code",
   "execution_count": 29,
   "metadata": {},
   "outputs": [],
   "source": [
    "s[4] = 'four'"
   ]
  },
  {
   "cell_type": "code",
   "execution_count": 30,
   "metadata": {},
   "outputs": [
    {
     "data": {
      "text/plain": [
       "{'one': 1, 'two': 2, 3: 'three', 4: 'four'}"
      ]
     },
     "execution_count": 30,
     "metadata": {},
     "output_type": "execute_result"
    }
   ],
   "source": [
    "s"
   ]
  },
  {
   "cell_type": "code",
   "execution_count": 31,
   "metadata": {},
   "outputs": [
    {
     "data": {
      "text/plain": [
       "1"
      ]
     },
     "execution_count": 31,
     "metadata": {},
     "output_type": "execute_result"
    }
   ],
   "source": [
    "s.get('one')"
   ]
  },
  {
   "cell_type": "code",
   "execution_count": 34,
   "metadata": {},
   "outputs": [
    {
     "name": "stdout",
     "output_type": "stream",
     "text": [
      "None\n"
     ]
    }
   ],
   "source": [
    "print(s.get('six'))"
   ]
  },
  {
   "cell_type": "code",
   "execution_count": 35,
   "metadata": {},
   "outputs": [],
   "source": [
    "del s['one']"
   ]
  },
  {
   "cell_type": "code",
   "execution_count": 36,
   "metadata": {},
   "outputs": [
    {
     "data": {
      "text/plain": [
       "{'two': 2, 3: 'three', 4: 'four'}"
      ]
     },
     "execution_count": 36,
     "metadata": {},
     "output_type": "execute_result"
    }
   ],
   "source": [
    "s"
   ]
  },
  {
   "cell_type": "code",
   "execution_count": 37,
   "metadata": {},
   "outputs": [],
   "source": [
    "## ключами могут быть только неизменяемые значения, то есть не могут быть списки, словари, множества и тд"
   ]
  },
  {
   "cell_type": "code",
   "execution_count": 38,
   "metadata": {},
   "outputs": [
    {
     "name": "stdout",
     "output_type": "stream",
     "text": [
      "two\n",
      "3\n",
      "4\n"
     ]
    }
   ],
   "source": [
    "for key in s:\n",
    "    print(key)"
   ]
  },
  {
   "cell_type": "code",
   "execution_count": 39,
   "metadata": {},
   "outputs": [
    {
     "name": "stdout",
     "output_type": "stream",
     "text": [
      "two\n",
      "3\n",
      "4\n"
     ]
    }
   ],
   "source": [
    "for key in s.keys():\n",
    "    print(key)"
   ]
  },
  {
   "cell_type": "code",
   "execution_count": 40,
   "metadata": {},
   "outputs": [
    {
     "name": "stdout",
     "output_type": "stream",
     "text": [
      "2\n",
      "three\n",
      "four\n"
     ]
    }
   ],
   "source": [
    "for key in s.values():\n",
    "    print(key)"
   ]
  },
  {
   "cell_type": "code",
   "execution_count": 43,
   "metadata": {},
   "outputs": [
    {
     "name": "stdout",
     "output_type": "stream",
     "text": [
      "two 2\n",
      "3 three\n",
      "4 four\n"
     ]
    }
   ],
   "source": [
    "for key, value in s.items():\n",
    "    print(key, value)"
   ]
  },
  {
   "cell_type": "code",
   "execution_count": null,
   "metadata": {},
   "outputs": [],
   "source": [
    "Напишите функцию update_dictionary(d, key, value), которая принимает на вход словарь dd и два числа: keykey и valuevalue.\n",
    "\n",
    "Если ключ keykey есть в словаре dd, то добавьте значение valuevalue в список, который хранится по этому ключу.\n",
    "Если ключа keykey нет в словаре, то нужно добавить значение в список по ключу 2 * key2∗key. Если и ключа 2 * key2∗key нет, то нужно добавить ключ 2 * key2∗key в словарь и сопоставить ему список из переданного элемента [value][value].\n",
    "\n",
    "Требуется реализовать только эту функцию, кода вне неё не должно быть.\n",
    "Функция не должна вызывать внутри себя функции input и print."
   ]
  },
  {
   "cell_type": "code",
   "execution_count": 44,
   "metadata": {},
   "outputs": [],
   "source": [
    "def update_dictionary(d, key, value):\n",
    "    if key in d:\n",
    "        d[key].append(value)\n",
    "    elif 2*key in d:\n",
    "        d[key*2].append(value)\n",
    "    else:\n",
    "        d[key*2] = [value]\n",
    "\n",
    "        "
   ]
  },
  {
   "cell_type": "code",
   "execution_count": 45,
   "metadata": {},
   "outputs": [
    {
     "name": "stdout",
     "output_type": "stream",
     "text": [
      "None\n",
      "{2: [-1]}\n",
      "{2: [-1, -2]}\n",
      "{2: [-1, -2, -3]}\n"
     ]
    }
   ],
   "source": [
    "d = {}\n",
    "print(update_dictionary(d, 1, -1))  # None\n",
    "print(d)                            # {2: [-1]}\n",
    "update_dictionary(d, 2, -2)\n",
    "print(d)                            # {2: [-1, -2]}\n",
    "update_dictionary(d, 1, -3)\n",
    "print(d) "
   ]
  },
  {
   "cell_type": "code",
   "execution_count": null,
   "metadata": {},
   "outputs": [],
   "source": [
    "Когда Антон прочитал «Войну и мир», ему стало интересно, сколько слов и в каком количестве используется в этой книге.\n",
    "\n",
    "Помогите Антону написать упрощённую версию такой программы, которая сможет подсчитать слова, разделённые пробелом и вывести \n",
    "получившуюся статистику.\n",
    "\n",
    "Программа должна считывать одну строку со стандартного ввода и выводить для каждого уникального слова в этой строке число его повторений \n",
    "(без учёта регистра) в формате \"слово количество\" (см. пример вывода).\n",
    "Порядок вывода слов может быть произвольным, каждое уникальное слово должно выводиться только один раз."
   ]
  },
  {
   "cell_type": "code",
   "execution_count": 49,
   "metadata": {},
   "outputs": [
    {
     "name": "stdout",
     "output_type": "stream",
     "text": [
      "a aa abC aa ac abc bcd a\n",
      "a 2\n",
      "aa 2\n",
      "abc 2\n",
      "ac 1\n",
      "bcd 1\n"
     ]
    }
   ],
   "source": [
    "a = [i.lower() for i in input().split()]\n",
    "b = {}\n",
    "for s in a:\n",
    "    if s in b:\n",
    "        b[s] += 1\n",
    "    else:\n",
    "        b[s] = 1\n",
    "        \n",
    "for k, v in b.items():\n",
    "    print(k, v)"
   ]
  },
  {
   "cell_type": "code",
   "execution_count": null,
   "metadata": {},
   "outputs": [],
   "source": [
    "Напишите программу, на вход которой на первой строке подаётся число nn, после этого на nn строках передаются числа xi\n",
    "Для каждого числа xi на отдельной строке выведите значение f(xi). Функция f(x) уже реализована и доступна для вызова. \n",
    "\n",
    "Функция вычисляется достаточно долго и зависит только от переданного аргумент x. Для того, чтобы уложиться в ограничение по времени, \n",
    "нужно сохранять вычисленные значения."
   ]
  },
  {
   "cell_type": "code",
   "execution_count": null,
   "metadata": {},
   "outputs": [],
   "source": [
    "n = int(input())\n",
    "b = []\n",
    "c = {}\n",
    "for i in range(n):\n",
    "    x = int(input())\n",
    "    if x in c:\n",
    "        b.append(c[x])\n",
    "    else:\n",
    "        y = f(x)\n",
    "        b.append(y)\n",
    "        c[x] = y\n",
    "\n",
    "for i in range(n):\n",
    "    print(b[i])\n",
    "    "
   ]
  },
  {
   "cell_type": "code",
   "execution_count": 50,
   "metadata": {},
   "outputs": [],
   "source": [
    "### Файловый ввод/вывод"
   ]
  },
  {
   "cell_type": "code",
   "execution_count": 57,
   "metadata": {},
   "outputs": [],
   "source": [
    "# чтение файла\n",
    "inf = open('test.txt', 'r')\n",
    "s1 = inf.readline()\n",
    "s2 = inf.readline()\n",
    "inf.close()\n"
   ]
  },
  {
   "cell_type": "code",
   "execution_count": 58,
   "metadata": {},
   "outputs": [
    {
     "data": {
      "text/plain": [
       "'123\\n'"
      ]
     },
     "execution_count": 58,
     "metadata": {},
     "output_type": "execute_result"
    }
   ],
   "source": [
    "s1"
   ]
  },
  {
   "cell_type": "code",
   "execution_count": 59,
   "metadata": {},
   "outputs": [],
   "source": [
    "# или"
   ]
  },
  {
   "cell_type": "code",
   "execution_count": 60,
   "metadata": {},
   "outputs": [],
   "source": [
    "with open('test.txt') as inf:\n",
    "    s1 = inf.readline()\n",
    "    s2 = inf.readline()\n"
   ]
  },
  {
   "cell_type": "code",
   "execution_count": 61,
   "metadata": {},
   "outputs": [
    {
     "data": {
      "text/plain": [
       "'123\\n'"
      ]
     },
     "execution_count": 61,
     "metadata": {},
     "output_type": "execute_result"
    }
   ],
   "source": [
    "s1"
   ]
  },
  {
   "cell_type": "code",
   "execution_count": 62,
   "metadata": {},
   "outputs": [
    {
     "data": {
      "text/plain": [
       "'345'"
      ]
     },
     "execution_count": 62,
     "metadata": {},
     "output_type": "execute_result"
    }
   ],
   "source": [
    "s2"
   ]
  },
  {
   "cell_type": "code",
   "execution_count": 63,
   "metadata": {},
   "outputs": [],
   "source": [
    "with open('test.txt', 'r') as inf:\n",
    "    s1 = inf.readline().strip()\n",
    "    s2 = inf.readline().strip()"
   ]
  },
  {
   "cell_type": "code",
   "execution_count": 64,
   "metadata": {},
   "outputs": [
    {
     "data": {
      "text/plain": [
       "'123'"
      ]
     },
     "execution_count": 64,
     "metadata": {},
     "output_type": "execute_result"
    }
   ],
   "source": [
    "s1"
   ]
  },
  {
   "cell_type": "code",
   "execution_count": 65,
   "metadata": {},
   "outputs": [
    {
     "ename": "NameError",
     "evalue": "name 'os' is not defined",
     "output_type": "error",
     "traceback": [
      "\u001b[0;31m---------------------------------------------------------------------------\u001b[0m",
      "\u001b[0;31mNameError\u001b[0m                                 Traceback (most recent call last)",
      "\u001b[0;32m<ipython-input-65-62f5f2de2f14>\u001b[0m in \u001b[0;36m<module>\u001b[0;34m\u001b[0m\n\u001b[0;32m----> 1\u001b[0;31m \u001b[0mos\u001b[0m\u001b[0;34m.\u001b[0m\u001b[0mpath\u001b[0m\u001b[0;34m.\u001b[0m\u001b[0mjoin\u001b[0m\u001b[0;34m(\u001b[0m\u001b[0;34m'.'\u001b[0m\u001b[0;34m,\u001b[0m \u001b[0;34m'dirname'\u001b[0m\u001b[0;34m,\u001b[0m \u001b[0;34m'filename.txt'\u001b[0m\u001b[0;34m)\u001b[0m\u001b[0;34m\u001b[0m\u001b[0;34m\u001b[0m\u001b[0m\n\u001b[0m",
      "\u001b[0;31mNameError\u001b[0m: name 'os' is not defined"
     ]
    }
   ],
   "source": [
    "os.path.join('.', 'dirname', 'filename.txt')"
   ]
  },
  {
   "cell_type": "code",
   "execution_count": 66,
   "metadata": {},
   "outputs": [],
   "source": [
    "import os"
   ]
  },
  {
   "cell_type": "code",
   "execution_count": 67,
   "metadata": {},
   "outputs": [
    {
     "data": {
      "text/plain": [
       "'./dirname/filename.txt'"
      ]
     },
     "execution_count": 67,
     "metadata": {},
     "output_type": "execute_result"
    }
   ],
   "source": [
    "os.path.join('.', 'dirname', 'filename.txt')"
   ]
  },
  {
   "cell_type": "code",
   "execution_count": 68,
   "metadata": {},
   "outputs": [],
   "source": [
    "# чтение всех строк"
   ]
  },
  {
   "cell_type": "code",
   "execution_count": 72,
   "metadata": {},
   "outputs": [
    {
     "name": "stdout",
     "output_type": "stream",
     "text": [
      "123\n",
      "345\n"
     ]
    }
   ],
   "source": [
    "with open('test.txt', 'r') as inf:\n",
    "    for line in inf:\n",
    "        print(line.strip())"
   ]
  },
  {
   "cell_type": "code",
   "execution_count": 71,
   "metadata": {},
   "outputs": [],
   "source": [
    "# запись в файл"
   ]
  },
  {
   "cell_type": "code",
   "execution_count": 74,
   "metadata": {},
   "outputs": [],
   "source": [
    "with open('test.txt', 'w') as ouf:\n",
    "    ouf.write('test str \\n')\n",
    "    ouf.write(str(12))"
   ]
  },
  {
   "cell_type": "code",
   "execution_count": null,
   "metadata": {},
   "outputs": [],
   "source": [
    "На прошлой неделе мы сжимали строки, используя кодирование повторов. Теперь нашей задачей будет восстановление исходной строки обратно.\n",
    "Напишите программу, которая считывает из файла строку, соответствующую тексту, сжатому с помощью кодирования повторов, и производит \n",
    "обратную операцию, получая исходный текст.\n",
    "Запишите полученный текст в файл и прикрепите его, как ответ на это задание.\n",
    "В исходном тексте не встречаются цифры, так что код однозначно интерпретируем.\n",
    "Примечание. Это первое задание типа Dataset Quiz. В таких заданиях после нажатия \"Start Quiz\" у вас появляется ссылка \n",
    "\"download your dataset\". Используйте эту ссылку для того, чтобы загрузить файл со входными данными к себе на компьютер. \n",
    "Запустите вашу программу, используя этот файл в качестве входных данных. Выходной файл, который при этом у вас получится, надо \n",
    "отправить в качестве ответа на эту задачу."
   ]
  },
  {
   "cell_type": "code",
   "execution_count": 86,
   "metadata": {},
   "outputs": [],
   "source": [
    "with open('dataset_3363_2.txt', 'r') as inf:\n",
    "    a = inf.readline().strip()\n",
    "\n",
    "count_b = ''\n",
    "b = a[0]\n",
    "s = ''\n",
    "for i in range(1,len(a)):\n",
    "    if a[i] >= '0' and a[i] <= '9':\n",
    "        count_b += a[i]\n",
    "    else:\n",
    "        s += b * int(count_b)\n",
    "        count_b = ''\n",
    "        b = a[i]\n",
    "s += b * int(count_b)\n",
    "with open('dataset_3363_2.txt', 'w') as ouf:\n",
    "    ouf.write(s)\n"
   ]
  },
  {
   "cell_type": "code",
   "execution_count": null,
   "metadata": {},
   "outputs": [],
   "source": [
    "Недавно мы считали для каждого слова количество его вхождений в строку. Но на все слова может быть не так интересно смотреть, как, \n",
    "например, на наиболее часто используемые.\n",
    "\n",
    "Напишите программу, которая считывает текст из файла (в файле может быть больше одной строки) и выводит самое частое слово в \n",
    "этом тексте и через пробел то, сколько раз оно встретилось. Если таких слов несколько, вывести лексикографически первое (можно использовать \n",
    "оператор < для строк).\n",
    "\n",
    "В качестве ответа укажите вывод программы, а не саму программу.\n",
    "\n",
    "Слова, написанные в разных регистрах, считаются одинаковыми."
   ]
  },
  {
   "cell_type": "code",
   "execution_count": 94,
   "metadata": {},
   "outputs": [
    {
     "name": "stdout",
     "output_type": "stream",
     "text": [
      "t 9\n"
     ]
    }
   ],
   "source": [
    "l = []\n",
    "with open('dataset_3363_2.txt', 'r') as inf:\n",
    "    for line in inf:\n",
    "        a = [i.lower() for i in line.split()]\n",
    "        l.extend(a)\n",
    "b = {}\n",
    "for i in l:\n",
    "    if i in b:\n",
    "        b[i] += 1\n",
    "    else:\n",
    "        b[i] = 1\n",
    "\n",
    "maximum = 0\n",
    "max_b = ''\n",
    "for k,v in b.items():\n",
    "    if v > maximum:\n",
    "        max_b = k\n",
    "        maximum = v\n",
    "    elif v == maximum and k > max_b:\n",
    "        max_b = k\n",
    "print(max_b, maximum)\n",
    "    "
   ]
  },
  {
   "cell_type": "code",
   "execution_count": 89,
   "metadata": {},
   "outputs": [],
   "source": [
    "l = ['1', '2']"
   ]
  },
  {
   "cell_type": "code",
   "execution_count": 90,
   "metadata": {},
   "outputs": [],
   "source": [
    "l.extend(['3', '4'])"
   ]
  },
  {
   "cell_type": "code",
   "execution_count": 91,
   "metadata": {},
   "outputs": [
    {
     "data": {
      "text/plain": [
       "['1', '2', '3', '4']"
      ]
     },
     "execution_count": 91,
     "metadata": {},
     "output_type": "execute_result"
    }
   ],
   "source": [
    "l"
   ]
  },
  {
   "cell_type": "code",
   "execution_count": null,
   "metadata": {},
   "outputs": [],
   "source": [
    "Имеется файл с данными по успеваемости абитуриентов. Он представляет из себя набор строк, где в каждой строке записана следующая \n",
    "информация:\n",
    "\n",
    "Фамилия;Оценка_по_математике;Оценка_по_физике;Оценка_по_русскому_языку\n",
    "Поля внутри строки разделены точкой с запятой, оценки — целые числа.\n",
    "Напишите программу, которая считывает файл с подобной структурой и для каждого абитуриента выводит его среднюю оценку по этим \n",
    "трём предметам на отдельной строке, соответствующей этому абитуриенту.\n",
    "\n",
    "Также в конце файла, на отдельной строке, через пробел запишите средние баллы по математике, физике и русскому языку по всем \n",
    "абитуриентам.\n",
    "\n",
    "В качестве ответа на задание прикрепите полученный файл со средними оценками."
   ]
  },
  {
   "cell_type": "code",
   "execution_count": 96,
   "metadata": {},
   "outputs": [
    {
     "name": "stdout",
     "output_type": "stream",
     "text": [
      "68.66666666666667\n",
      "73.0\n",
      "70.0\n",
      "61.333333333333336\n",
      "53.0\n",
      "75.33333333333333\n",
      "41.666666666666664\n",
      "69.0\n",
      "70.33333333333333\n",
      "61.666666666666664\n",
      "75.66666666666667\n",
      "47.666666666666664\n",
      "69.33333333333333\n",
      "46.666666666666664\n",
      "57.0\n",
      "69.0\n",
      "72.33333333333333\n",
      "90.33333333333333\n",
      "53.0\n",
      "42.666666666666664\n",
      "45.666666666666664\n",
      "59.333333333333336\n",
      "66.0\n",
      "64.0\n",
      "47.333333333333336\n",
      "80.33333333333333\n",
      "50.0\n",
      "52.666666666666664\n",
      "50.666666666666664\n",
      "57.0\n",
      "62.333333333333336\n",
      "56.666666666666664\n",
      "48.333333333333336\n",
      "81.66666666666667\n",
      "64.0\n",
      "28.666666666666668\n",
      "50.333333333333336\n",
      "56.666666666666664\n",
      "77.33333333333333\n",
      "71.33333333333333\n",
      "57.666666666666664\n",
      "75.0\n",
      "76.0\n",
      "72.66666666666667\n",
      "93.33333333333333\n",
      "70.0\n",
      "64.0\n",
      "45.0\n",
      "51.0\n",
      "67.66666666666667\n",
      "62.0\n",
      "60.0\n",
      "48.666666666666664\n",
      "75.66666666666667\n",
      "49.666666666666664\n",
      "68.33333333333333\n",
      "44.333333333333336\n",
      "63.666666666666664\n",
      "53.666666666666664\n",
      "33.0\n",
      "74.33333333333333\n",
      "42.666666666666664\n",
      "67.33333333333333\n",
      "50.333333333333336\n",
      "55.0\n",
      "65.33333333333333\n",
      "53.0\n",
      "61.666666666666664\n",
      "90.66666666666667\n",
      "38.0\n",
      "61.0\n",
      "46.333333333333336\n",
      "64.66666666666667\n",
      "91.0\n",
      "86.33333333333333\n",
      "70.33333333333333\n",
      "43.666666666666664\n",
      "48.333333333333336\n",
      "59.666666666666664\n",
      "70.0\n",
      "72.33333333333333\n",
      "84.0\n",
      "39.333333333333336\n",
      "70.0\n",
      "69.0\n",
      "68.33333333333333\n",
      "51.666666666666664\n",
      "60.666666666666664\n",
      "78.0\n",
      "72.0\n",
      "72.33333333333333\n",
      "53.333333333333336\n",
      "39.666666666666664\n",
      "56.0\n",
      "68.33333333333333\n",
      "59.0\n",
      "44.333333333333336\n",
      "61.666666666666664\n",
      "65.0\n",
      "80.0\n",
      "61.0\n",
      "70.66666666666667\n",
      "82.33333333333333\n",
      "75.33333333333333\n",
      "56.666666666666664\n",
      "60.333333333333336\n",
      "61.0\n",
      "75.66666666666667\n",
      "73.66666666666667\n",
      "83.0\n",
      "50.333333333333336\n",
      "60.666666666666664\n",
      "40.333333333333336\n",
      "42.333333333333336\n",
      "65.33333333333333\n",
      "75.0\n",
      "45.333333333333336\n",
      "58.333333333333336\n",
      "57.0\n",
      "56.333333333333336\n",
      "91.33333333333333\n",
      "53.0\n",
      "66.66666666666667\n",
      "51.666666666666664\n",
      "74.66666666666667\n",
      "51.0\n",
      "69.66666666666667\n",
      "55.333333333333336\n",
      "67.0\n",
      "66.0\n",
      "60.0\n",
      "63.0\n",
      "82.0\n",
      "49.666666666666664\n",
      "72.33333333333333\n",
      "53.0\n",
      "36.666666666666664\n",
      "68.0\n",
      "72.66666666666667\n",
      "51.333333333333336\n",
      "53.666666666666664\n",
      "61.0\n",
      "53.333333333333336\n",
      "72.66666666666667\n",
      "61.666666666666664\n",
      "48.333333333333336\n",
      "72.66666666666667\n",
      "78.33333333333333\n",
      "53.666666666666664\n",
      "45.666666666666664\n",
      "62.666666666666664\n",
      "57.333333333333336\n",
      "64.0\n",
      "66.33333333333333\n",
      "74.0\n",
      "80.0\n",
      "65.0\n",
      "63.666666666666664\n",
      "82.33333333333333\n",
      "41.666666666666664\n",
      "60.86875 63.5875 61.875\n"
     ]
    }
   ],
   "source": [
    "l = []\n",
    "b = {}\n",
    "abits = []\n",
    "math_sum = 0\n",
    "phys_sum = 0\n",
    "russ_sum = 0\n",
    "\n",
    "with open('dataset_3363_2.txt', 'r') as inf:\n",
    "    for line in inf:\n",
    "        a = line.strip().split(';')\n",
    "        abits.append(a[0])\n",
    "        math_sum += float(a[1])\n",
    "        phys_sum += float(a[2])\n",
    "        russ_sum += float(a[3])\n",
    "        b[a[0]] = (float(a[1]) + float(a[2]) + float(a[3]))/3\n",
    "\n",
    "for i in abits:\n",
    "    print(b[i])\n",
    "print(math_sum/len(abits), phys_sum/len(abits), russ_sum/len(abits))"
   ]
  },
  {
   "cell_type": "code",
   "execution_count": null,
   "metadata": {},
   "outputs": [],
   "source": [
    "### Модули"
   ]
  },
  {
   "cell_type": "code",
   "execution_count": null,
   "metadata": {},
   "outputs": [],
   "source": [
    "import my_module\n",
    "my_module.foo()"
   ]
  },
  {
   "cell_type": "code",
   "execution_count": null,
   "metadata": {},
   "outputs": [],
   "source": [
    "from my_module import foo # конкретную функцию\n",
    "foo()"
   ]
  },
  {
   "cell_type": "code",
   "execution_count": null,
   "metadata": {},
   "outputs": [],
   "source": [
    "from my_module import * # сразу все функции \n",
    "foo()"
   ]
  },
  {
   "cell_type": "code",
   "execution_count": null,
   "metadata": {},
   "outputs": [],
   "source": [
    "from my_module import foo as my_foo() # alias\n",
    "my_foo()"
   ]
  },
  {
   "cell_type": "code",
   "execution_count": 98,
   "metadata": {},
   "outputs": [
    {
     "name": "stdout",
     "output_type": "stream",
     "text": [
      "['/Users/tvedenina/opt/anaconda3/lib/python3.7/site-packages/ipykernel_launcher.py', '-f', '/Users/tvedenina/Library/Jupyter/runtime/kernel-2c2fc92e-3abb-4999-954e-702aa5b3d3f4.json']\n"
     ]
    }
   ],
   "source": [
    "# аргументы командной строки\n",
    "import sys\n",
    "print(sys.argv)"
   ]
  },
  {
   "cell_type": "code",
   "execution_count": 99,
   "metadata": {},
   "outputs": [
    {
     "data": {
      "text/plain": [
       "0"
      ]
     },
     "execution_count": 99,
     "metadata": {},
     "output_type": "execute_result"
    }
   ],
   "source": [
    "#  запуск внешних процессов\n",
    "import subprocess\n",
    "subprocess.call(['python3', '-V'])"
   ]
  },
  {
   "cell_type": "code",
   "execution_count": null,
   "metadata": {},
   "outputs": [],
   "source": [
    "Напишите программу, которая подключает модуль math и, используя значение числа pi из этого модуля, находит для переданного ей\n",
    "на стандартный ввод радиуса круга периметр этого круга и выводит его на стандартный вывод."
   ]
  },
  {
   "cell_type": "code",
   "execution_count": 101,
   "metadata": {},
   "outputs": [
    {
     "name": "stdout",
     "output_type": "stream",
     "text": [
      "10\n",
      "62.83185307179586\n"
     ]
    }
   ],
   "source": [
    "from math import pi\n",
    "r = float(input())\n",
    "print(2*r*pi)"
   ]
  },
  {
   "cell_type": "code",
   "execution_count": null,
   "metadata": {},
   "outputs": [],
   "source": [
    "Напишите программу, которая запускается из консоли и печатает значения всех переданных аргументов на экран (имя скрипта выводить не нужно).\n",
    "Не изменяйте порядок аргументов при выводе.\n",
    "\n",
    "Для доступа к аргументам командной строки программы подключите модуль sys и используйте переменную argv из этого модуля.\n",
    "\n",
    "Пример работы программы:\n",
    "    \n",
    "> python3 my_solution.py arg1 arg2\n",
    "arg1 arg2"
   ]
  },
  {
   "cell_type": "code",
   "execution_count": 105,
   "metadata": {},
   "outputs": [
    {
     "name": "stdout",
     "output_type": "stream",
     "text": [
      "/Users/tvedenina/Library/Jupyter/runtime/kernel-2c2fc92e-3abb-4999-954e-702aa5b3d3f4.json "
     ]
    }
   ],
   "source": [
    "import sys\n",
    "for i in range(1, len(sys.argv)):\n",
    "    print(sys.argv[i], end=' ')"
   ]
  },
  {
   "cell_type": "code",
   "execution_count": 107,
   "metadata": {},
   "outputs": [],
   "source": [
    "import requests\n",
    "r = requests.get('http://example.com')"
   ]
  },
  {
   "cell_type": "code",
   "execution_count": 109,
   "metadata": {},
   "outputs": [
    {
     "name": "stdout",
     "output_type": "stream",
     "text": [
      "<!doctype html>\n",
      "<html>\n",
      "<head>\n",
      "    <title>Example Domain</title>\n",
      "\n",
      "    <meta charset=\"utf-8\" />\n",
      "    <meta http-equiv=\"Content-type\" content=\"text/html; charset=utf-8\" />\n",
      "    <meta name=\"viewport\" content=\"width=device-width, initial-scale=1\" />\n",
      "    <style type=\"text/css\">\n",
      "    body {\n",
      "        background-color: #f0f0f2;\n",
      "        margin: 0;\n",
      "        padding: 0;\n",
      "        font-family: -apple-system, system-ui, BlinkMacSystemFont, \"Segoe UI\", \"Open Sans\", \"Helvetica Neue\", Helvetica, Arial, sans-serif;\n",
      "        \n",
      "    }\n",
      "    div {\n",
      "        width: 600px;\n",
      "        margin: 5em auto;\n",
      "        padding: 2em;\n",
      "        background-color: #fdfdff;\n",
      "        border-radius: 0.5em;\n",
      "        box-shadow: 2px 3px 7px 2px rgba(0,0,0,0.02);\n",
      "    }\n",
      "    a:link, a:visited {\n",
      "        color: #38488f;\n",
      "        text-decoration: none;\n",
      "    }\n",
      "    @media (max-width: 700px) {\n",
      "        div {\n",
      "            margin: 0 auto;\n",
      "            width: auto;\n",
      "        }\n",
      "    }\n",
      "    </style>    \n",
      "</head>\n",
      "\n",
      "<body>\n",
      "<div>\n",
      "    <h1>Example Domain</h1>\n",
      "    <p>This domain is for use in illustrative examples in documents. You may use this\n",
      "    domain in literature without prior coordination or asking for permission.</p>\n",
      "    <p><a href=\"https://www.iana.org/domains/example\">More information...</a></p>\n",
      "</div>\n",
      "</body>\n",
      "</html>\n",
      "\n"
     ]
    }
   ],
   "source": [
    "print(r.text)"
   ]
  },
  {
   "cell_type": "code",
   "execution_count": 112,
   "metadata": {},
   "outputs": [
    {
     "name": "stdout",
     "output_type": "stream",
     "text": [
      "http://example.com/?key_1=value_1&key_2=value_2\n"
     ]
    }
   ],
   "source": [
    "# передача параметров в запросе\n",
    "url = 'http://example.com'\n",
    "par = {'key_1': 'value_1', 'key_2': 'value_2'}\n",
    "r = requests.get(url, params=par)\n",
    "print(r.url)"
   ]
  },
  {
   "cell_type": "code",
   "execution_count": null,
   "metadata": {},
   "outputs": [],
   "source": [
    "Скачайте файл. В нём указан адрес другого файла, который нужно скачать с использованием модуля requests и посчитать число строк в нём.\n",
    "\n",
    "Используйте функцию get для получения файла (имеет смысл вызвать метод strip к передаваемому параметру, чтобы убрать \n",
    "пробельные символы по краям).\n",
    "\n",
    "После получения файла вы можете проверить результат, обратившись к полю text. Если результат работы скрипта не принимается, \n",
    "проверьте поле url на правильность. Для подсчёта количества строк разбейте текст с помощью метода splitlines.\n",
    "\n",
    "В поле ответа введите одно число или отправьте файл, содержащий одно число."
   ]
  },
  {
   "cell_type": "code",
   "execution_count": 116,
   "metadata": {},
   "outputs": [
    {
     "name": "stdout",
     "output_type": "stream",
     "text": [
      "256\n"
     ]
    }
   ],
   "source": [
    "r = requests.get('https://stepic.org/media/attachments/course67/3.6.2/603.txt')\n",
    "print(len(r.text.splitlines()))"
   ]
  },
  {
   "cell_type": "code",
   "execution_count": null,
   "metadata": {},
   "outputs": [],
   "source": [
    "Имеется набор файлов, каждый из которых, кроме последнего, содержит имя следующего файла.\n",
    "Первое слово в тексте последнего файла: \"We\".\n",
    "\n",
    "Скачайте предложенный файл. В нём содержится ссылка на первый файл из этого набора.\n",
    "\n",
    "Все файлы располагаются в каталоге по адресу:\n",
    "https://stepic.org/media/attachments/course67/3.6.3/\n",
    "\n",
    "Загрузите содержимое последнего файла из набора, как ответ на это задание."
   ]
  },
  {
   "cell_type": "code",
   "execution_count": 126,
   "metadata": {},
   "outputs": [
    {
     "name": "stdout",
     "output_type": "stream",
     "text": [
      "213837.txt\n",
      "396639.txt\n",
      "835329.txt\n",
      "344063.txt\n",
      "194307.txt\n",
      "195211.txt\n",
      "769171.txt\n",
      "153554.txt\n",
      "680916.txt\n",
      "335636.txt\n",
      "935728.txt\n",
      "081303.txt\n",
      "792633.txt\n",
      "668368.txt\n",
      "647731.txt\n",
      "904392.txt\n",
      "684563.txt\n",
      "997337.txt\n",
      "329467.txt\n",
      "366219.txt\n",
      "730037.txt\n",
      "310230.txt\n",
      "104249.txt\n",
      "382504.txt\n",
      "433681.txt\n",
      "507359.txt\n",
      "293649.txt\n",
      "011641.txt\n",
      "717942.txt\n",
      "258080.txt\n",
      "569395.txt\n",
      "756825.txt\n",
      "921388.txt\n",
      "437007.txt\n",
      "004090.txt\n",
      "362705.txt\n",
      "145282.txt\n",
      "990216.txt\n",
      "645783.txt\n",
      "451262.txt\n",
      "193295.txt\n",
      "777343.txt\n",
      "324603.txt\n",
      "888934.txt\n",
      "138655.txt\n",
      "818396.txt\n",
      "290594.txt\n",
      "478003.txt\n",
      "276687.txt\n",
      "703763.txt\n",
      "712469.txt\n",
      "064418.txt\n",
      "246033.txt\n",
      "356768.txt\n",
      "504290.txt\n",
      "629914.txt\n",
      "062456.txt\n",
      "658472.txt\n",
      "037659.txt\n",
      "351978.txt\n",
      "523822.txt\n",
      "653493.txt\n",
      "859227.txt\n",
      "878358.txt\n",
      "944504.txt\n",
      "457602.txt\n",
      "548571.txt\n",
      "090976.txt\n",
      "965991.txt\n",
      "138128.txt\n",
      "255843.txt\n",
      "797598.txt\n",
      "640003.txt\n",
      "789435.txt\n",
      "181382.txt\n",
      "590526.txt\n",
      "430513.txt\n",
      "182774.txt\n",
      "924794.txt\n",
      "998193.txt\n",
      "770039.txt\n",
      "619504.txt\n",
      "098137.txt\n",
      "874234.txt\n",
      "476929.txt\n",
      "254654.txt\n",
      "972817.txt\n",
      "183249.txt\n",
      "231788.txt\n",
      "238807.txt\n",
      "775176.txt\n",
      "332055.txt\n",
      "971266.txt\n",
      "641342.txt\n",
      "377648.txt\n",
      "665641.txt\n",
      "120842.txt\n",
      "435728.txt\n",
      "860507.txt\n",
      "845049.txt\n",
      "103662.txt\n",
      "989375.txt\n",
      "949525.txt\n",
      "622807.txt\n",
      "441279.txt\n",
      "252484.txt\n",
      "595082.txt\n",
      "942502.txt\n",
      "544418.txt\n",
      "242071.txt\n",
      "696203.txt\n",
      "470997.txt\n",
      "858079.txt\n",
      "299971.txt\n",
      "474312.txt\n",
      "202815.txt\n",
      "192361.txt\n",
      "036087.txt\n",
      "208836.txt\n",
      "057270.txt\n",
      "414940.txt\n",
      "685551.txt\n",
      "877276.txt\n",
      "183839.txt\n",
      "681194.txt\n",
      "268115.txt\n",
      "850395.txt\n",
      "841311.txt\n",
      "318124.txt\n",
      "502298.txt\n",
      "870820.txt\n",
      "886554.txt\n",
      "874723.txt\n",
      "785247.txt\n",
      "743951.txt\n",
      "893121.txt\n",
      "493592.txt\n",
      "043302.txt\n",
      "512901.txt\n",
      "455422.txt\n",
      "405792.txt\n",
      "223561.txt\n",
      "711048.txt\n",
      "986818.txt\n",
      "919305.txt\n",
      "673023.txt\n",
      "195915.txt\n",
      "113918.txt\n",
      "829948.txt\n",
      "407495.txt\n",
      "799448.txt\n",
      "455591.txt\n",
      "046533.txt\n",
      "895838.txt\n",
      "203749.txt\n",
      "897513.txt\n",
      "023903.txt\n",
      "639854.txt\n",
      "767954.txt\n",
      "483260.txt\n",
      "305657.txt\n",
      "113973.txt\n",
      "569665.txt\n",
      "811640.txt\n",
      "627996.txt\n",
      "555691.txt\n",
      "126531.txt\n",
      "434239.txt\n",
      "812997.txt\n",
      "012540.txt\n",
      "457171.txt\n",
      "809767.txt\n",
      "113083.txt\n",
      "168190.txt\n",
      "105218.txt\n",
      "426930.txt\n",
      "839383.txt\n",
      "318610.txt\n",
      "727580.txt\n",
      "966169.txt\n",
      "633699.txt\n",
      "933699.txt\n",
      "254907.txt\n",
      "277257.txt\n",
      "105289.txt\n",
      "618947.txt\n",
      "788422.txt\n",
      "598850.txt\n",
      "218724.txt\n",
      "855788.txt\n",
      "414896.txt\n",
      "086361.txt\n",
      "259720.txt\n",
      "864746.txt\n",
      "213015.txt\n",
      "706951.txt\n",
      "790699.txt\n",
      "556965.txt\n",
      "843911.txt\n",
      "824452.txt\n",
      "558623.txt\n",
      "299517.txt\n",
      "204151.txt\n",
      "864178.txt\n",
      "001410.txt\n",
      "268784.txt\n",
      "413917.txt\n",
      "258819.txt\n",
      "694433.txt\n",
      "376424.txt\n",
      "198564.txt\n",
      "228068.txt\n",
      "417050.txt\n",
      "453058.txt\n",
      "182986.txt\n",
      "237570.txt\n",
      "680981.txt\n",
      "865546.txt\n",
      "367559.txt\n",
      "122687.txt\n",
      "783680.txt\n",
      "626200.txt\n",
      "953943.txt\n",
      "009102.txt\n",
      "882919.txt\n",
      "984198.txt\n",
      "867571.txt\n",
      "889641.txt\n",
      "223919.txt\n",
      "748056.txt\n",
      "577611.txt\n",
      "749540.txt\n",
      "536080.txt\n",
      "351770.txt\n",
      "968708.txt\n",
      "311090.txt\n",
      "239129.txt\n",
      "312237.txt\n",
      "053569.txt\n",
      "678528.txt\n",
      "767429.txt\n",
      "095729.txt\n",
      "452488.txt\n",
      "798915.txt\n",
      "426191.txt\n",
      "067336.txt\n",
      "949017.txt\n",
      "987573.txt\n",
      "843785.txt\n",
      "We are the champions, my friends,\n",
      "And we'll keep on fighting 'til the end.\n",
      "We are the champions.\n",
      "We are the champions.\n",
      "No time for losers\n",
      "'Cause we are the champions of the world.\n"
     ]
    }
   ],
   "source": [
    "fname = '699991.txt'\n",
    "base = 'https://stepic.org/media/attachments/course67/3.6.3/'\n",
    "while True:\n",
    "    r = requests.get(base + fname)\n",
    "    fname = r.text.strip()\n",
    "    print(fname)\n",
    "    t = fname.split()\n",
    "    if t[0] == 'We':\n",
    "        break\n",
    "        \n",
    "with open('dataset_3363_2.txt', 'w') as ouf:\n",
    "    ouf.write(r.text)"
   ]
  },
  {
   "cell_type": "code",
   "execution_count": null,
   "metadata": {},
   "outputs": [],
   "source": [
    "Напишите программу, которая принимает на стандартный вход список игр футбольных команд с результатом матча и выводит на стандартный \n",
    "вывод сводную таблицу результатов всех матчей.\n",
    "\n",
    "За победу команде начисляется 3 очка, за поражение — 0, за ничью — 1.\n",
    "\n",
    "Формат ввода следующий:\n",
    "В первой строке указано целое число nn — количество завершенных игр.\n",
    "После этого идет nn строк, в которых записаны результаты игры в следующем формате:\n",
    "Первая_команда;Забито_первой_командой;Вторая_команда;Забито_второй_командой\n",
    "\n",
    "Вывод программы необходимо оформить следующим образом:\n",
    "Команда:Всего_игр Побед Ничьих Поражений Всего_очков\n",
    "    \n",
    "Порядок вывода команд произвольный."
   ]
  },
  {
   "cell_type": "code",
   "execution_count": 139,
   "metadata": {},
   "outputs": [
    {
     "name": "stdout",
     "output_type": "stream",
     "text": [
      "7\n",
      "Франция;1;Румыния;1\n",
      "Албания;0;Швейцария;1\n",
      "Уэльс;2;Словакия;1\n",
      "Англия;1;Россия;1\n",
      "Россия;1;Словакия;2\n",
      "Румыния;1;Швейцария;1\n",
      "Франция;2;Албания;0\n",
      "Франция:2 1 0 1 4\n",
      "Румыния:2 0 0 2 2\n",
      "Албания:2 0 2 0 0\n",
      "Швейцария:2 1 0 1 4\n",
      "Уэльс:1 1 0 0 3\n",
      "Словакия:2 1 1 0 3\n",
      "Англия:1 0 0 1 1\n",
      "Россия:2 0 1 1 1\n"
     ]
    }
   ],
   "source": [
    "def add_count(my_dict, team, score):\n",
    "    if team in my_dict:\n",
    "        my_dict[team] += score\n",
    "    else:\n",
    "        my_dict[team] = score\n",
    "\n",
    "def get_count(my_dict, team):\n",
    "    c = my_dict.get(team) \n",
    "    if c == None:\n",
    "        return 0\n",
    "    return c\n",
    "    \n",
    "n = int(input())\n",
    "games = {}\n",
    "wins = {}\n",
    "losts = {}\n",
    "draws = {}\n",
    "score = {}\n",
    "\n",
    "for i in range(n):\n",
    "    l = input().split(';')\n",
    "    team1 = l[0]\n",
    "    team2 = l[2]\n",
    "    score1 = int(l[1])\n",
    "    score2 = int(l[3])\n",
    "    add_count(games, team1, 1)\n",
    "    add_count(games, team2, 1)\n",
    "    if score1 > score2:\n",
    "        add_count(wins, team1, 1)\n",
    "        add_count(losts, team2, 1)\n",
    "        add_count(score, team2, 0)\n",
    "        add_count(score, team1, 3)\n",
    "    elif score1 == score2:\n",
    "        add_count(draws, team1, 1)\n",
    "        add_count(draws, team2, 1)\n",
    "        add_count(score, team2, 1)\n",
    "        add_count(score, team1, 1)\n",
    "    else:\n",
    "        add_count(wins, team2, 1)\n",
    "        add_count(losts, team1, 1)\n",
    "        add_count(score, team2, 3)\n",
    "        add_count(score, team1, 0)\n",
    "    \n",
    "for key in games:\n",
    "    print(key + ':' + str(get_count(games, key)), get_count(wins, key), get_count(draws, key), get_count(losts, key), get_count(score, key))\n",
    "    \n",
    "\n",
    "    "
   ]
  },
  {
   "cell_type": "code",
   "execution_count": null,
   "metadata": {},
   "outputs": [],
   "source": [
    "В какой-то момент в Институте биоинформатики биологи перестали понимать, что говорят информатики: они говорили каким-то странным \n",
    "набором звуков.\n",
    "\n",
    "В какой-то момент один из биологов раскрыл секрет информатиков: они использовали при общении подстановочный шифр, т.е. заменяли \n",
    "каждый символ исходного сообщения на соответствующий ему другой символ. Биологи раздобыли ключ к шифру и теперь нуждаются в помощи:\n",
    "\n",
    "Напишите программу, которая умеет шифровать и расшифровывать шифр подстановки. Программа принимает на вход две строки одинаковой \n",
    "длины, на первой строке записаны символы исходного алфавита, на второй строке — символы конечного алфавита, после чего идёт строка, \n",
    "которую нужно зашифровать переданным ключом, и ещё одна строка, которую нужно расшифровать.\n",
    "\n",
    "Пусть, например, на вход программе передано:\n",
    "abcd\n",
    "*d%#\n",
    "abacabadaba\n",
    "#*%*d*%\n",
    "\n",
    "Это значит, что символ a исходного сообщения заменяется на символ * в шифре, b заменяется на d, c — на % и d — на #.\n",
    "Нужно зашифровать строку abacabadaba и расшифровать строку '#*%*d*%' с помощью этого шифра. Получаем следующие строки, \n",
    "которые и передаём на вывод программы:\n",
    "*d*%*d*#*d*\n",
    "dacabac"
   ]
  },
  {
   "cell_type": "code",
   "execution_count": 142,
   "metadata": {},
   "outputs": [
    {
     "name": "stdout",
     "output_type": "stream",
     "text": [
      "abcd\n",
      "*d%#\n",
      "abacabadaba\n",
      "#*%*d*%\n",
      "*d*%*d*#*d*\n",
      "dacabac\n"
     ]
    }
   ],
   "source": [
    "a = input()\n",
    "b = input()\n",
    "s1 = input()\n",
    "s2 = input()\n",
    "c = {}\n",
    "d = {}\n",
    "r1 = ''\n",
    "r2 = ''\n",
    "for i in range(len(a)):\n",
    "    c[a[i]] = b[i]\n",
    "    d[b[i]] = a[i]\n",
    "for i in s1:\n",
    "    r1 += c[i]\n",
    "for i in s2:\n",
    "    r2 += d[i]\n",
    "print(r1)\n",
    "print(r2)"
   ]
  },
  {
   "cell_type": "code",
   "execution_count": null,
   "metadata": {},
   "outputs": [],
   "source": [
    "Простейшая система проверки орфографии может быть основана на использовании списка известных слов.\n",
    "Если введённое слово не найдено в этом списке, оно помечается как \"ошибка\".\n",
    "\n",
    "Попробуем написать подобную систему.\n",
    "\n",
    "На вход программе первой строкой передаётся количество d известных нам слов, после чего на d строках указываются эти слова. \n",
    "Затем передаётся количество l строк текста для проверки, после чего l строк текста.\n",
    "\n",
    "Выведите уникальные \"ошибки\" в произвольном порядке. Работу производите без учёта регистра."
   ]
  },
  {
   "cell_type": "code",
   "execution_count": 144,
   "metadata": {},
   "outputs": [
    {
     "name": "stdout",
     "output_type": "stream",
     "text": [
      "4\n",
      "champions\n",
      "we\n",
      "are\n",
      "Stepik\n",
      "3\n",
      "We are the champignons\n",
      "We are the champignons\n",
      "Stepic\n",
      "stepic\n",
      "the\n",
      "champignons\n"
     ]
    }
   ],
   "source": [
    "d = int(input())\n",
    "b = set()\n",
    "for i in range(d):\n",
    "    b.add(input().lower())\n",
    "l = int(input())\n",
    "s = set()\n",
    "for i in range(l):\n",
    "    t = input().split()\n",
    "    for i in t:\n",
    "        if i.lower() not in b:\n",
    "            s.add(i.lower())\n",
    "\n",
    "for i in s:\n",
    "    print(i)"
   ]
  },
  {
   "cell_type": "code",
   "execution_count": null,
   "metadata": {},
   "outputs": [],
   "source": [
    "Группа биологов в институте биоинформатики завела себе черепашку.\n",
    "\n",
    "После дрессировки черепашка научилась понимать и запоминать указания биологов следующего вида:\n",
    "север 10\n",
    "запад 20\n",
    "юг 30\n",
    "восток 40\n",
    "где первое слово — это направление, в котором должна двигаться черепашка, а число после слова — это положительное расстояние в сантиметрах, \n",
    "которое должна пройти черепашка.\n",
    "\n",
    "Но команды даются быстро, а черепашка ползёт медленно, и программисты догадались, что можно написать программу, которая определит, \n",
    "куда в итоге биологи приведут черепашку. Для этого программисты просят вас написать программу, которая выведет точку, в которой окажется \n",
    "черепашка после всех команд. Для простоты они решили считать, что движение начинается в точке (0, 0), и движение на восток увеличивает \n",
    "первую координату, а на север — вторую.\n",
    "\n",
    "Программе подаётся на вход число команд n, которые нужно выполнить черепашке, после чего n строк с самими командами. Вывести \n",
    "нужно два числа в одну строку: первую и вторую координату конечной точки черепашки. Все координаты целочисленные."
   ]
  },
  {
   "cell_type": "code",
   "execution_count": 148,
   "metadata": {},
   "outputs": [
    {
     "name": "stdout",
     "output_type": "stream",
     "text": [
      "4\n",
      "север 10\n",
      "запад 20\n",
      "юг 30\n",
      "восток 40\n",
      "20 -20\n"
     ]
    }
   ],
   "source": [
    "def calc_x_y(way, s, x, y):\n",
    "    if way == 'север':\n",
    "        y += s\n",
    "    elif way == 'запад':\n",
    "        x -= s\n",
    "    elif way == 'юг':\n",
    "        y -= s\n",
    "    else:\n",
    "        x += s\n",
    "    return x, y\n",
    "\n",
    "n = int(input())\n",
    "x =0\n",
    "y = 0\n",
    "for i in range(n):\n",
    "    s = input().split()\n",
    "    x,y = calc_x_y(s[0], int(s[1]), x, y)\n",
    "\n",
    "print(x, y)"
   ]
  },
  {
   "cell_type": "code",
   "execution_count": 151,
   "metadata": {},
   "outputs": [
    {
     "name": "stdout",
     "output_type": "stream",
     "text": [
      "1 124.57142857142857\n",
      "2 129.0\n",
      "3 134.54545454545453\n",
      "4 140.25\n",
      "5 144.8181818181818\n",
      "6 155.58333333333334\n",
      "7 161.66666666666666\n",
      "8 166.73333333333332\n",
      "9 170.46153846153845\n",
      "10 169.72727272727272\n",
      "11 175.14285714285714\n"
     ]
    }
   ],
   "source": [
    "b = {}\n",
    "with open('test.txt', 'r') as inf:\n",
    "    for line in inf:\n",
    "        l = line.strip().split('\\t')\n",
    "        num = int(l[0])\n",
    "        growth = int(l[2])\n",
    "        if num in b:\n",
    "            b[num].append(growth)\n",
    "        else:\n",
    "            b[num] = [growth]\n",
    "\n",
    "for i in range(1, 12):\n",
    "    l = b.get(i)\n",
    "    if l == None:\n",
    "        print(i, '-')\n",
    "    else:\n",
    "        print(i, sum(l)/len(l))"
   ]
  },
  {
   "cell_type": "code",
   "execution_count": 152,
   "metadata": {},
   "outputs": [],
   "source": [
    "### Библиотеки для анализа данных"
   ]
  },
  {
   "cell_type": "code",
   "execution_count": 153,
   "metadata": {},
   "outputs": [],
   "source": [
    "### NumPy"
   ]
  },
  {
   "cell_type": "code",
   "execution_count": 154,
   "metadata": {},
   "outputs": [],
   "source": [
    "from numpy import *"
   ]
  },
  {
   "cell_type": "code",
   "execution_count": 155,
   "metadata": {},
   "outputs": [],
   "source": [
    "a = array([1,2,3,4])"
   ]
  },
  {
   "cell_type": "code",
   "execution_count": 156,
   "metadata": {},
   "outputs": [
    {
     "name": "stdout",
     "output_type": "stream",
     "text": [
      "[1 2 3 4]\n"
     ]
    }
   ],
   "source": [
    "print(a)"
   ]
  },
  {
   "cell_type": "code",
   "execution_count": 157,
   "metadata": {},
   "outputs": [
    {
     "data": {
      "text/plain": [
       "1"
      ]
     },
     "execution_count": 157,
     "metadata": {},
     "output_type": "execute_result"
    }
   ],
   "source": [
    "a.ndim # размерность массива"
   ]
  },
  {
   "cell_type": "code",
   "execution_count": 158,
   "metadata": {},
   "outputs": [
    {
     "data": {
      "text/plain": [
       "(4,)"
      ]
     },
     "execution_count": 158,
     "metadata": {},
     "output_type": "execute_result"
    }
   ],
   "source": [
    "a.shape # размеры массива"
   ]
  },
  {
   "cell_type": "code",
   "execution_count": 159,
   "metadata": {},
   "outputs": [],
   "source": [
    "b = array([(1,2,3),(4,5,6)])"
   ]
  },
  {
   "cell_type": "code",
   "execution_count": 160,
   "metadata": {},
   "outputs": [
    {
     "name": "stdout",
     "output_type": "stream",
     "text": [
      "[[1 2 3]\n",
      " [4 5 6]]\n"
     ]
    }
   ],
   "source": [
    "print(b)"
   ]
  },
  {
   "cell_type": "code",
   "execution_count": 161,
   "metadata": {},
   "outputs": [
    {
     "data": {
      "text/plain": [
       "2"
      ]
     },
     "execution_count": 161,
     "metadata": {},
     "output_type": "execute_result"
    }
   ],
   "source": [
    "b.ndim"
   ]
  },
  {
   "cell_type": "code",
   "execution_count": 162,
   "metadata": {},
   "outputs": [
    {
     "data": {
      "text/plain": [
       "(2, 3)"
      ]
     },
     "execution_count": 162,
     "metadata": {},
     "output_type": "execute_result"
    }
   ],
   "source": [
    "b.shape"
   ]
  },
  {
   "cell_type": "code",
   "execution_count": 163,
   "metadata": {},
   "outputs": [],
   "source": [
    "z = zeros((3,2)) # нулевой двумерный массив"
   ]
  },
  {
   "cell_type": "code",
   "execution_count": 164,
   "metadata": {},
   "outputs": [
    {
     "name": "stdout",
     "output_type": "stream",
     "text": [
      "[[0. 0.]\n",
      " [0. 0.]\n",
      " [0. 0.]]\n"
     ]
    }
   ],
   "source": [
    "print(z)"
   ]
  },
  {
   "cell_type": "code",
   "execution_count": 165,
   "metadata": {},
   "outputs": [
    {
     "data": {
      "text/plain": [
       "array([10, 15, 20, 25])"
      ]
     },
     "execution_count": 165,
     "metadata": {},
     "output_type": "execute_result"
    }
   ],
   "source": [
    "arange(10, 30, 5) # генерация массива"
   ]
  },
  {
   "cell_type": "code",
   "execution_count": 167,
   "metadata": {},
   "outputs": [
    {
     "data": {
      "text/plain": [
       "array([0.  , 0.25, 0.5 , 0.75, 1.  , 1.25, 1.5 , 1.75, 2.  ])"
      ]
     },
     "execution_count": 167,
     "metadata": {},
     "output_type": "execute_result"
    }
   ],
   "source": [
    "linspace(0, 2, 9) # генерирует 9 чисел на отрезке от 0 до 2 с равным шагом"
   ]
  },
  {
   "cell_type": "code",
   "execution_count": 169,
   "metadata": {},
   "outputs": [
    {
     "name": "stdout",
     "output_type": "stream",
     "text": [
      "[[ 0  1  2]\n",
      " [ 3  4  5]\n",
      " [ 6  7  8]\n",
      " [ 9 10 11]]\n"
     ]
    }
   ],
   "source": [
    "b = arange(12).reshape(4,3) # преобразование одномерного массива в многомерный\n",
    "print(b)"
   ]
  },
  {
   "cell_type": "code",
   "execution_count": 170,
   "metadata": {},
   "outputs": [
    {
     "name": "stdout",
     "output_type": "stream",
     "text": [
      "[10 20 30]\n",
      "[1 2 3]\n"
     ]
    }
   ],
   "source": [
    "a = array([10,20,30])\n",
    "b = array([1,2,3])\n",
    "print(a)\n",
    "print(b)"
   ]
  },
  {
   "cell_type": "code",
   "execution_count": 171,
   "metadata": {},
   "outputs": [
    {
     "name": "stdout",
     "output_type": "stream",
     "text": [
      "[11 22 33]\n"
     ]
    }
   ],
   "source": [
    "print(a + b)"
   ]
  },
  {
   "cell_type": "code",
   "execution_count": 172,
   "metadata": {},
   "outputs": [
    {
     "name": "stdout",
     "output_type": "stream",
     "text": [
      "[ 9 18 27]\n"
     ]
    }
   ],
   "source": [
    "print(a - b)"
   ]
  },
  {
   "cell_type": "code",
   "execution_count": 173,
   "metadata": {},
   "outputs": [
    {
     "name": "stdout",
     "output_type": "stream",
     "text": [
      "[100 400 900]\n"
     ]
    }
   ],
   "source": [
    "print(a**2)"
   ]
  },
  {
   "cell_type": "code",
   "execution_count": 174,
   "metadata": {},
   "outputs": [
    {
     "name": "stdout",
     "output_type": "stream",
     "text": [
      "[-1.08804222  1.8258905  -1.97606325]\n"
     ]
    }
   ],
   "source": [
    "print(2*sin(a))"
   ]
  },
  {
   "cell_type": "code",
   "execution_count": 175,
   "metadata": {},
   "outputs": [
    {
     "name": "stdout",
     "output_type": "stream",
     "text": [
      "[ True False False]\n"
     ]
    }
   ],
   "source": [
    "print(a < 20)"
   ]
  },
  {
   "cell_type": "code",
   "execution_count": 176,
   "metadata": {},
   "outputs": [],
   "source": [
    "### Matplotlib"
   ]
  },
  {
   "cell_type": "code",
   "execution_count": 177,
   "metadata": {},
   "outputs": [],
   "source": [
    "from pylab import *"
   ]
  },
  {
   "cell_type": "code",
   "execution_count": 180,
   "metadata": {},
   "outputs": [
    {
     "name": "stdout",
     "output_type": "stream",
     "text": [
      "[0.         0.55555556 1.11111111 1.66666667 2.22222222 2.77777778\n",
      " 3.33333333 3.88888889 4.44444444 5.        ]\n",
      "[ 0.          0.30864198  1.2345679   2.77777778  4.9382716   7.71604938\n",
      " 11.11111111 15.12345679 19.75308642 25.        ]\n"
     ]
    }
   ],
   "source": [
    "x = linspace(0, 5, 10)\n",
    "y = x ** 2\n",
    "print(x)\n",
    "print(y)"
   ]
  },
  {
   "cell_type": "code",
   "execution_count": 181,
   "metadata": {},
   "outputs": [
    {
     "data": {
      "image/png": "[encoded data removed]",
      "text/plain": [
       "<Figure size 432x288 with 1 Axes>"
      ]
     },
     "metadata": {
      "needs_background": "light"
     },
     "output_type": "display_data"
    }
   ],
   "source": [
    "figure()\n",
    "plot(x, y, 'r') # r - red\n",
    "xlabel('x')\n",
    "ylabel('y')\n",
    "title('My title')\n",
    "show()"
   ]
  },
  {
   "cell_type": "code",
   "execution_count": 182,
   "metadata": {},
   "outputs": [],
   "source": [
    "%matplotlib inline # чтобы график рисовался в ноутбуке, может"
   ]
  },
  {
   "cell_type": "code",
   "execution_count": 183,
   "metadata": {},
   "outputs": [
    {
     "data": {
      "text/plain": [
       "Text(0.5, 1.0, 'My title')"
      ]
     },
     "execution_count": 183,
     "metadata": {},
     "output_type": "execute_result"
    },
    {
     "data": {
      "image/png": "[encoded data removed]",
      "text/plain": [
       "<Figure size 432x288 with 1 Axes>"
      ]
     },
     "metadata": {
      "needs_background": "light"
     },
     "output_type": "display_data"
    }
   ],
   "source": [
    "fig = plt.figure()\n",
    "axes = fig.add_axes([0.1, 0.1, 0.8, 0.8])\n",
    "axes.plot(x, y, 'r')\n",
    "axes.set_xlabel('x')\n",
    "axes.set_ylabel('y')\n",
    "axes.set_title('My title')"
   ]
  },
  {
   "cell_type": "code",
   "execution_count": 188,
   "metadata": {},
   "outputs": [
    {
     "data": {
      "text/plain": [
       "(-4.291494993645227, 3.9697933912787904)"
      ]
     },
     "execution_count": 188,
     "metadata": {},
     "output_type": "execute_result"
    },
    {
     "data": {
      "image/png": "[encoded data removed]",
      "text/plain": [
       "<Figure size 864x288 with 2 Axes>"
      ]
     },
     "metadata": {
      "needs_background": "light"
     },
     "output_type": "display_data"
    }
   ],
   "source": [
    "from numpy import *\n",
    "n = random.randn(100000)\n",
    "fig, axes = plt.subplots(1,2, figsize=(12,4))\n",
    "\n",
    "axes[0].hist(n)\n",
    "axes[0].set_title('Default histogram')\n",
    "axes[0].set_xlim(min(n), max(n))\n",
    "\n",
    "axes[1].hist(n, cumulative= True, bins=50)\n",
    "axes[1].set_title('Cumulative detailed histogram')\n",
    "axes[1].set_xlim(min(n), max(n))\n"
   ]
  },
  {
   "cell_type": "code",
   "execution_count": 186,
   "metadata": {},
   "outputs": [
    {
     "data": {
      "text/plain": [
       "array([ 0.79835677,  0.95847374, -1.03514867, ...,  0.67970911,\n",
       "       -0.05045795,  1.98318689])"
      ]
     },
     "execution_count": 186,
     "metadata": {},
     "output_type": "execute_result"
    }
   ],
   "source": [
    "n"
   ]
  },
  {
   "cell_type": "code",
   "execution_count": null,
   "metadata": {},
   "outputs": [],
   "source": []
  }
 ],
 "metadata": {
  "kernelspec": {
   "display_name": "Python 3",
   "language": "python",
   "name": "python3"
  },
  "language_info": {
   "codemirror_mode": {
    "name": "ipython",
    "version": 3
   },
   "file_extension": ".py",
   "mimetype": "text/x-python",
   "name": "python",
   "nbconvert_exporter": "python",
   "pygments_lexer": "ipython3",
   "version": "3.7.4"
  }
 },
 "nbformat": 4,
 "nbformat_minor": 2
}
